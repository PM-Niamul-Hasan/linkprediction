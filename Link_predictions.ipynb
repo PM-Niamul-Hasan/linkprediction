{
  "nbformat": 4,
  "nbformat_minor": 0,
  "metadata": {
    "colab": {
      "provenance": [],
      "authorship_tag": "ABX9TyOONt9BRd+cCM9P55P+2Sg4",
      "include_colab_link": true
    },
    "kernelspec": {
      "name": "python3",
      "display_name": "Python 3"
    },
    "language_info": {
      "name": "python"
    }
  },
  "cells": [
    {
      "cell_type": "markdown",
      "metadata": {
        "id": "view-in-github",
        "colab_type": "text"
      },
      "source": [
        "<a href=\"https://colab.research.google.com/github/PM-Niamul-Hasan/linkprediction/blob/main/Link_predictions.ipynb\" target=\"_parent\"><img src=\"https://colab.research.google.com/assets/colab-badge.svg\" alt=\"Open In Colab\"/></a>"
      ]
    },
    {
      "cell_type": "markdown",
      "source": [
        "First project"
      ],
      "metadata": {
        "id": "hoyqsnx6QgdQ"
      }
    },
    {
      "cell_type": "code",
      "source": [
        "print(\"Welcome to Google Colab\")"
      ],
      "metadata": {
        "colab": {
          "base_uri": "https://localhost:8080/"
        },
        "id": "TeWYU5ZuQfuL",
        "outputId": "9bb2847a-d4d1-4144-90a1-b91edfd0aace"
      },
      "execution_count": null,
      "outputs": [
        {
          "output_type": "stream",
          "name": "stdout",
          "text": [
            "Welcome to Google Colab\n"
          ]
        }
      ]
    },
    {
      "cell_type": "code",
      "source": [
        "\n",
        "import networkx as nx\n",
        "import numpy as np\n",
        "import pandas as pd\n",
        "import sklearn\n",
        "import matplotlib.pyplot as plt"
      ],
      "metadata": {
        "id": "Ep-xzCl6Rjdr"
      },
      "execution_count": null,
      "outputs": []
    },
    {
      "cell_type": "code",
      "source": [
        "pip install PyQt5"
      ],
      "metadata": {
        "colab": {
          "base_uri": "https://localhost:8080/"
        },
        "id": "NIT8qTtxR65K",
        "outputId": "76438dc9-4a09-4988-a234-6293ccf31d2e"
      },
      "execution_count": null,
      "outputs": [
        {
          "output_type": "stream",
          "name": "stdout",
          "text": [
            "Requirement already satisfied: PyQt5 in /usr/local/lib/python3.11/dist-packages (5.15.11)\n",
            "Requirement already satisfied: PyQt5-sip<13,>=12.15 in /usr/local/lib/python3.11/dist-packages (from PyQt5) (12.17.0)\n",
            "Requirement already satisfied: PyQt5-Qt5<5.16.0,>=5.15.2 in /usr/local/lib/python3.11/dist-packages (from PyQt5) (5.15.16)\n"
          ]
        }
      ]
    },
    {
      "cell_type": "code",
      "source": [
        "import PyQt5"
      ],
      "metadata": {
        "id": "x7fCgMVzR_ow"
      },
      "execution_count": null,
      "outputs": []
    },
    {
      "cell_type": "code",
      "source": [
        "\n",
        "import pandas as pd\n",
        "import random\n",
        "\n",
        "# Number of nodes (example: 100 nodes)\n",
        "num_nodes = 100\n",
        "\n",
        "# Number of records (2000 records)\n",
        "num_records = 2000\n",
        "\n",
        "# Generate data\n",
        "data = {\n",
        "    'Node1': [random.randint(1, num_nodes) for _ in range(num_records)],\n",
        "    'Node2': [random.randint(1, num_nodes) for _ in range(num_records)],\n",
        "    'EdgeWeight': [round(random.uniform(0.5, 1.0), 2) for _ in range(num_records)]  # Random values between 0.5 and 1.0\n",
        "}\n",
        "\n",
        "# Create DataFrame\n",
        "df = pd.DataFrame(data)\n",
        "\n",
        "# Remove duplicates where Node1 and Node2 are the same\n",
        "df = df[df['Node1'] != df['Node2']]\n",
        "\n",
        "# Save to CSV\n",
        "file_name = 'facebook_topological_data.csv'\n",
        "df.to_csv(file_name, index=False)\n",
        "\n",
        "print(f\"{file_name}\")"
      ],
      "metadata": {
        "colab": {
          "base_uri": "https://localhost:8080/"
        },
        "id": "pOEjh-fpWEJf",
        "outputId": "5bac5f41-eaf7-418e-82a7-1bec2a3619ed"
      },
      "execution_count": null,
      "outputs": [
        {
          "output_type": "stream",
          "name": "stdout",
          "text": [
            "facebook_topological_data.csv\n"
          ]
        }
      ]
    },
    {
      "cell_type": "code",
      "source": [
        "!pip install networkx numpy pandas scikit-learn"
      ],
      "metadata": {
        "colab": {
          "base_uri": "https://localhost:8080/"
        },
        "id": "xNZPJoW0pqOB",
        "outputId": "0a0cc6e8-2210-4aed-cf6b-a8f1c89c68f5"
      },
      "execution_count": 1,
      "outputs": [
        {
          "output_type": "stream",
          "name": "stdout",
          "text": [
            "Requirement already satisfied: networkx in /usr/local/lib/python3.11/dist-packages (3.4.2)\n",
            "Requirement already satisfied: numpy in /usr/local/lib/python3.11/dist-packages (2.0.2)\n",
            "Requirement already satisfied: pandas in /usr/local/lib/python3.11/dist-packages (2.2.2)\n",
            "Requirement already satisfied: scikit-learn in /usr/local/lib/python3.11/dist-packages (1.6.1)\n",
            "Requirement already satisfied: python-dateutil>=2.8.2 in /usr/local/lib/python3.11/dist-packages (from pandas) (2.9.0.post0)\n",
            "Requirement already satisfied: pytz>=2020.1 in /usr/local/lib/python3.11/dist-packages (from pandas) (2025.2)\n",
            "Requirement already satisfied: tzdata>=2022.7 in /usr/local/lib/python3.11/dist-packages (from pandas) (2025.2)\n",
            "Requirement already satisfied: scipy>=1.6.0 in /usr/local/lib/python3.11/dist-packages (from scikit-learn) (1.15.3)\n",
            "Requirement already satisfied: joblib>=1.2.0 in /usr/local/lib/python3.11/dist-packages (from scikit-learn) (1.5.0)\n",
            "Requirement already satisfied: threadpoolctl>=3.1.0 in /usr/local/lib/python3.11/dist-packages (from scikit-learn) (3.6.0)\n",
            "Requirement already satisfied: six>=1.5 in /usr/local/lib/python3.11/dist-packages (from python-dateutil>=2.8.2->pandas) (1.17.0)\n"
          ]
        }
      ]
    },
    {
      "cell_type": "code",
      "source": [
        "\n",
        "from google.colab import files\n",
        "files.upload()"
      ],
      "metadata": {
        "colab": {
          "base_uri": "https://localhost:8080/",
          "height": 1000
        },
        "id": "YB8RuqVqpxHJ",
        "outputId": "2ee1e1d2-3675-41ac-ce8c-0ef03cd7fbc4"
      },
      "execution_count": 4,
      "outputs": [
        {
          "output_type": "display_data",
          "data": {
            "text/plain": [
              "<IPython.core.display.HTML object>"
            ],
            "text/html": [
              "\n",
              "     <input type=\"file\" id=\"files-79486e30-133d-46dd-80ca-9eb57d6d3ba0\" name=\"files[]\" multiple disabled\n",
              "        style=\"border:none\" />\n",
              "     <output id=\"result-79486e30-133d-46dd-80ca-9eb57d6d3ba0\">\n",
              "      Upload widget is only available when the cell has been executed in the\n",
              "      current browser session. Please rerun this cell to enable.\n",
              "      </output>\n",
              "      <script>// Copyright 2017 Google LLC\n",
              "//\n",
              "// Licensed under the Apache License, Version 2.0 (the \"License\");\n",
              "// you may not use this file except in compliance with the License.\n",
              "// You may obtain a copy of the License at\n",
              "//\n",
              "//      http://www.apache.org/licenses/LICENSE-2.0\n",
              "//\n",
              "// Unless required by applicable law or agreed to in writing, software\n",
              "// distributed under the License is distributed on an \"AS IS\" BASIS,\n",
              "// WITHOUT WARRANTIES OR CONDITIONS OF ANY KIND, either express or implied.\n",
              "// See the License for the specific language governing permissions and\n",
              "// limitations under the License.\n",
              "\n",
              "/**\n",
              " * @fileoverview Helpers for google.colab Python module.\n",
              " */\n",
              "(function(scope) {\n",
              "function span(text, styleAttributes = {}) {\n",
              "  const element = document.createElement('span');\n",
              "  element.textContent = text;\n",
              "  for (const key of Object.keys(styleAttributes)) {\n",
              "    element.style[key] = styleAttributes[key];\n",
              "  }\n",
              "  return element;\n",
              "}\n",
              "\n",
              "// Max number of bytes which will be uploaded at a time.\n",
              "const MAX_PAYLOAD_SIZE = 100 * 1024;\n",
              "\n",
              "function _uploadFiles(inputId, outputId) {\n",
              "  const steps = uploadFilesStep(inputId, outputId);\n",
              "  const outputElement = document.getElementById(outputId);\n",
              "  // Cache steps on the outputElement to make it available for the next call\n",
              "  // to uploadFilesContinue from Python.\n",
              "  outputElement.steps = steps;\n",
              "\n",
              "  return _uploadFilesContinue(outputId);\n",
              "}\n",
              "\n",
              "// This is roughly an async generator (not supported in the browser yet),\n",
              "// where there are multiple asynchronous steps and the Python side is going\n",
              "// to poll for completion of each step.\n",
              "// This uses a Promise to block the python side on completion of each step,\n",
              "// then passes the result of the previous step as the input to the next step.\n",
              "function _uploadFilesContinue(outputId) {\n",
              "  const outputElement = document.getElementById(outputId);\n",
              "  const steps = outputElement.steps;\n",
              "\n",
              "  const next = steps.next(outputElement.lastPromiseValue);\n",
              "  return Promise.resolve(next.value.promise).then((value) => {\n",
              "    // Cache the last promise value to make it available to the next\n",
              "    // step of the generator.\n",
              "    outputElement.lastPromiseValue = value;\n",
              "    return next.value.response;\n",
              "  });\n",
              "}\n",
              "\n",
              "/**\n",
              " * Generator function which is called between each async step of the upload\n",
              " * process.\n",
              " * @param {string} inputId Element ID of the input file picker element.\n",
              " * @param {string} outputId Element ID of the output display.\n",
              " * @return {!Iterable<!Object>} Iterable of next steps.\n",
              " */\n",
              "function* uploadFilesStep(inputId, outputId) {\n",
              "  const inputElement = document.getElementById(inputId);\n",
              "  inputElement.disabled = false;\n",
              "\n",
              "  const outputElement = document.getElementById(outputId);\n",
              "  outputElement.innerHTML = '';\n",
              "\n",
              "  const pickedPromise = new Promise((resolve) => {\n",
              "    inputElement.addEventListener('change', (e) => {\n",
              "      resolve(e.target.files);\n",
              "    });\n",
              "  });\n",
              "\n",
              "  const cancel = document.createElement('button');\n",
              "  inputElement.parentElement.appendChild(cancel);\n",
              "  cancel.textContent = 'Cancel upload';\n",
              "  const cancelPromise = new Promise((resolve) => {\n",
              "    cancel.onclick = () => {\n",
              "      resolve(null);\n",
              "    };\n",
              "  });\n",
              "\n",
              "  // Wait for the user to pick the files.\n",
              "  const files = yield {\n",
              "    promise: Promise.race([pickedPromise, cancelPromise]),\n",
              "    response: {\n",
              "      action: 'starting',\n",
              "    }\n",
              "  };\n",
              "\n",
              "  cancel.remove();\n",
              "\n",
              "  // Disable the input element since further picks are not allowed.\n",
              "  inputElement.disabled = true;\n",
              "\n",
              "  if (!files) {\n",
              "    return {\n",
              "      response: {\n",
              "        action: 'complete',\n",
              "      }\n",
              "    };\n",
              "  }\n",
              "\n",
              "  for (const file of files) {\n",
              "    const li = document.createElement('li');\n",
              "    li.append(span(file.name, {fontWeight: 'bold'}));\n",
              "    li.append(span(\n",
              "        `(${file.type || 'n/a'}) - ${file.size} bytes, ` +\n",
              "        `last modified: ${\n",
              "            file.lastModifiedDate ? file.lastModifiedDate.toLocaleDateString() :\n",
              "                                    'n/a'} - `));\n",
              "    const percent = span('0% done');\n",
              "    li.appendChild(percent);\n",
              "\n",
              "    outputElement.appendChild(li);\n",
              "\n",
              "    const fileDataPromise = new Promise((resolve) => {\n",
              "      const reader = new FileReader();\n",
              "      reader.onload = (e) => {\n",
              "        resolve(e.target.result);\n",
              "      };\n",
              "      reader.readAsArrayBuffer(file);\n",
              "    });\n",
              "    // Wait for the data to be ready.\n",
              "    let fileData = yield {\n",
              "      promise: fileDataPromise,\n",
              "      response: {\n",
              "        action: 'continue',\n",
              "      }\n",
              "    };\n",
              "\n",
              "    // Use a chunked sending to avoid message size limits. See b/62115660.\n",
              "    let position = 0;\n",
              "    do {\n",
              "      const length = Math.min(fileData.byteLength - position, MAX_PAYLOAD_SIZE);\n",
              "      const chunk = new Uint8Array(fileData, position, length);\n",
              "      position += length;\n",
              "\n",
              "      const base64 = btoa(String.fromCharCode.apply(null, chunk));\n",
              "      yield {\n",
              "        response: {\n",
              "          action: 'append',\n",
              "          file: file.name,\n",
              "          data: base64,\n",
              "        },\n",
              "      };\n",
              "\n",
              "      let percentDone = fileData.byteLength === 0 ?\n",
              "          100 :\n",
              "          Math.round((position / fileData.byteLength) * 100);\n",
              "      percent.textContent = `${percentDone}% done`;\n",
              "\n",
              "    } while (position < fileData.byteLength);\n",
              "  }\n",
              "\n",
              "  // All done.\n",
              "  yield {\n",
              "    response: {\n",
              "      action: 'complete',\n",
              "    }\n",
              "  };\n",
              "}\n",
              "\n",
              "scope.google = scope.google || {};\n",
              "scope.google.colab = scope.google.colab || {};\n",
              "scope.google.colab._files = {\n",
              "  _uploadFiles,\n",
              "  _uploadFilesContinue,\n",
              "};\n",
              "})(self);\n",
              "</script> "
            ]
          },
          "metadata": {}
        },
        {
          "output_type": "stream",
          "name": "stdout",
          "text": [
            "Saving linkPredition.py to linkPredition (4).py\n"
          ]
        },
        {
          "output_type": "execute_result",
          "data": {
            "text/plain": [
              "{'linkPredition (4).py': b'import networkx as nx\\nimport numpy as np\\nimport pandas as pd\\nfrom sklearn.model_selection import train_test_split\\nfrom sklearn.metrics import accuracy_score, roc_auc_score\\nfrom sklearn.svm import SVC\\nfrom sklearn.neighbors import KNeighborsClassifier\\nfrom sklearn.neural_network import MLPClassifier\\nimport matplotlib.pyplot as plt\\nfrom PyQt5 import QtWidgets, QtGui\\nimport sys\\n\\n# Load Facebook dataset\\nG = nx.read_edgelist(\"facebook_combined.txt\", nodetype=int)\\nprint(\"Total nodes:\", G.number_of_nodes())\\nprint(\"Total edges:\", G.number_of_edges())\\n\\n# Function to generate dataset for ML\\ndef generate_features(graph):\\n    data = []\\n    labels = []\\n    nodes = list(graph.nodes())\\n\\n    for _ in range(5000):\\n        u, v = np.random.choice(nodes, 2, replace=False)\\n        label = 1 if graph.has_edge(u, v) else 0\\n\\n        # Topological features\\n        common_neighbors = len(list(nx.common_neighbors(graph, u, v)))\\n        jaccard_coeff = list(nx.jaccard_coefficient(graph, [(u, v)]))[0][2]\\n        preferential_attachment = list(nx.preferential_attachment(graph, [(u, v)]))[0][2]\\n\\n        # Non-topological (random example feature)\\n        deg_u = graph.degree(u)\\n        deg_v = graph.degree(v)\\n\\n        features = [common_neighbors, jaccard_coeff, preferential_attachment, deg_u, deg_v]\\n        data.append(features)\\n        labels.append(label)\\n\\n    return np.array(data), np.array(labels)\\n\\n# Prepare dataset\\nX, y = generate_features(G)\\nX_train, X_test, y_train, y_test = train_test_split(X, y, test_size=0.2, random_state=42)\\n\\n# ML Models\\nsvm = SVC(probability=True)\\nknn = KNeighborsClassifier(n_neighbors=5)\\nnn = MLPClassifier(hidden_layer_sizes=(10, 5), max_iter=500)\\n\\n# Train models\\nsvm.fit(X_train, y_train)\\nknn.fit(X_train, y_train)\\nnn.fit(X_train, y_train)\\n\\n# Predictions\\ny_pred_svm = svm.predict(X_test)\\ny_pred_knn = knn.predict(X_test)\\ny_pred_nn = nn.predict(X_test)\\n\\n# AUC\\nauc_svm = roc_auc_score(y_test, svm.predict_proba(X_test)[:, 1])\\nauc_knn = roc_auc_score(y_test, knn.predict_proba(X_test)[:, 1])\\nauc_nn = roc_auc_score(y_test, nn.predict_proba(X_test)[:, 1])\\n\\n# Results Dictionary\\nresults = {\\n    \\'SVM Accuracy\\': accuracy_score(y_test, y_pred_svm),\\n    \\'SVM AUC\\': auc_svm,\\n    \\'k-NN Accuracy\\': accuracy_score(y_test, y_pred_knn),\\n    \\'k-NN AUC\\': auc_knn,\\n    \\'Neural Net Accuracy\\': accuracy_score(y_test, y_pred_nn),\\n    \\'Neural Net AUC\\': auc_nn\\n}\\n\\nprint(results)\\n\\n# PyQt5 GUI App\\nclass ResultWindow(QtWidgets.QWidget):\\n    def __init__(self):\\n        super().__init__()\\n\\n        self.setWindowTitle(\"Link Prediction Results\")\\n        self.setGeometry(200, 200, 500, 300)\\n\\n        layout = QtWidgets.QVBoxLayout()\\n\\n        title = QtWidgets.QLabel(\"\\xf0\\x9f\\x93\\x8a Link Prediction Model Performance\")\\n        title.setFont(QtGui.QFont(\"Arial\", 16))\\n        layout.addWidget(title)\\n\\n        for k, v in results.items():\\n            label = QtWidgets.QLabel(f\"{k}: {v:.4f}\")\\n            label.setFont(QtGui.QFont(\"Arial\", 12))\\n            layout.addWidget(label)\\n\\n        graph_button = QtWidgets.QPushButton(\"Show Network Graph\")\\n        graph_button.clicked.connect(self.show_graph)\\n        layout.addWidget(graph_button)\\n\\n        self.setLayout(layout)\\n\\n    def show_graph(self):\\n        plt.figure(figsize=(8, 6))\\n        nx.draw_spring(G, node_size=30, edge_color=\\'gray\\')\\n        plt.title(\"Facebook Friendship Network\")\\n        plt.show()\\n\\napp = QtWidgets.QApplication(sys.argv)\\nwindow = ResultWindow()\\nwindow.show()\\nsys.exit(app.exec_())\\n'}"
            ]
          },
          "metadata": {},
          "execution_count": 4
        }
      ]
    },
    {
      "cell_type": "code",
      "source": [
        "!python3 linkPredition.py"
      ],
      "metadata": {
        "colab": {
          "base_uri": "https://localhost:8080/"
        },
        "id": "Vivd8zRQp_cK",
        "outputId": "616ead77-70c4-4578-eb86-6edca1f7fee6"
      },
      "execution_count": 5,
      "outputs": [
        {
          "output_type": "stream",
          "name": "stdout",
          "text": [
            "Total nodes: 3959\n",
            "Total edges: 84243\n",
            "{'SVM Accuracy': 0.986, 'SVM AUC': np.float64(0.9579797979797979), 'k-NN Accuracy': 0.986, 'k-NN AUC': np.float64(0.6862121212121212), 'Neural Net Accuracy': 0.992, 'Neural Net AUC': np.float64(0.8022222222222222)}\n",
            "qt.qpa.plugin: Could not load the Qt platform plugin \"xcb\" in \"\" even though it was found.\n",
            "This application failed to start because no Qt platform plugin could be initialized. Reinstalling the application may fix this problem.\n",
            "\n",
            "Available platform plugins are: eglfs, linuxfb, minimal, minimalegl, offscreen, vnc, wayland-egl, wayland, wayland-xcomposite-egl, wayland-xcomposite-glx, webgl, xcb.\n",
            "\n"
          ]
        }
      ]
    },
    {
      "cell_type": "code",
      "source": [
        "\n",
        "import networkx as nx\n",
        "import numpy as np\n",
        "import pandas as pd\n",
        "from sklearn.model_selection import train_test_split\n",
        "from sklearn.metrics import accuracy_score, roc_auc_score\n",
        "from sklearn.svm import SVC\n",
        "from sklearn.neighbors import KNeighborsClassifier\n",
        "from sklearn.neural_network import MLPClassifier\n",
        "import matplotlib.pyplot as plt\n",
        "\n",
        "# Load Facebook dataset\n",
        "G = nx.read_edgelist(\"facebook_combined.txt\", nodetype=int)\n",
        "print(\"Total nodes:\", G.number_of_nodes())\n",
        "print(\"Total edges:\", G.number_of_edges())\n",
        "\n",
        "# Function to generate dataset for ML\n",
        "def generate_features(graph):\n",
        "    data = []\n",
        "    labels = []\n",
        "    nodes = list(graph.nodes())\n",
        "\n",
        "    for _ in range(5000):\n",
        "        u, v = np.random.choice(nodes, 2, replace=False)\n",
        "        label = 1 if graph.has_edge(u, v) else 0\n",
        "\n",
        "        # Topological features\n",
        "        common_neighbors = len(list(nx.common_neighbors(graph, u, v)))\n",
        "        jaccard_coeff = list(nx.jaccard_coefficient(graph, [(u, v)]))[0][2]\n",
        "        preferential_attachment = list(nx.preferential_attachment(graph, [(u, v)]))[0][2]\n",
        "\n",
        "        # Non-topological (random example feature)\n",
        "        deg_u = graph.degree(u)\n",
        "        deg_v = graph.degree(v)\n",
        "\n",
        "        features = [common_neighbors, jaccard_coeff, preferential_attachment, deg_u, deg_v]\n",
        "        data.append(features)\n",
        "        labels.append(label)\n",
        "\n",
        "    return np.array(data), np.array(labels)\n",
        "\n",
        "# Prepare dataset\n",
        "X, y = generate_features(G)\n",
        "X_train, X_test, y_train, y_test = train_test_split(X, y, test_size=0.2, random_state=42)\n",
        "\n",
        "# ML Models\n",
        "svm = SVC(probability=True)\n",
        "knn = KNeighborsClassifier(n_neighbors=5)\n",
        "nn = MLPClassifier(hidden_layer_sizes=(10, 5), max_iter=500)\n",
        "\n",
        "# Train models\n",
        "svm.fit(X_train, y_train)\n",
        "knn.fit(X_train, y_train)\n",
        "nn.fit(X_train, y_train)\n",
        "\n",
        "# Predictions\n",
        "y_pred_svm = svm.predict(X_test)\n",
        "y_pred_knn = knn.predict(X_test)\n",
        "y_pred_nn = nn.predict(X_test)\n",
        "\n",
        "# AUC\n",
        "auc_svm = roc_auc_score(y_test, svm.predict_proba(X_test)[:, 1])\n",
        "auc_knn = roc_auc_score(y_test, knn.predict_proba(X_test)[:, 1])\n",
        "auc_nn = roc_auc_score(y_test, nn.predict_proba(X_test)[:, 1])\n",
        "\n",
        "# Results Dictionary\n",
        "results = {\n",
        "    'SVM Accuracy': accuracy_score(y_test, y_pred_svm),\n",
        "    'SVM AUC': auc_svm,\n",
        "    'k-NN Accuracy': accuracy_score(y_test, y_pred_knn),\n",
        "    'k-NN AUC': auc_knn,\n",
        "    'Neural Net Accuracy': accuracy_score(y_test, y_pred_nn),\n",
        "    'Neural Net AUC': auc_nn\n",
        "}\n",
        "\n",
        "print(results)\n",
        "\n",
        "# Plot Network Graph using Matplotlib\n",
        "plt.figure(figsize=(8, 6))\n",
        "nx.draw_spring(G, node_size=30, edge_color='gray')\n",
        "plt.title(\"Facebook Friendship Network\")\n",
        "plt.show()"
      ],
      "metadata": {
        "colab": {
          "base_uri": "https://localhost:8080/",
          "height": 731
        },
        "id": "4J5nXU5cqY_B",
        "outputId": "77751cdf-6eb6-4ed9-c87d-c361635b7ca3"
      },
      "execution_count": 6,
      "outputs": [
        {
          "output_type": "stream",
          "name": "stdout",
          "text": [
            "Total nodes: 3959\n",
            "Total edges: 84243\n",
            "{'SVM Accuracy': 0.988, 'SVM AUC': np.float64(0.9960744500846023), 'k-NN Accuracy': 0.988, 'k-NN AUC': np.float64(0.6504906937394246), 'Neural Net Accuracy': 0.995, 'Neural Net AUC': np.float64(0.987072758037225)}\n"
          ]
        },
        {
          "output_type": "display_data",
          "data": {
            "text/plain": [
              "<Figure size 800x600 with 1 Axes>"
            ],
            "image/png": "[encoded data removed]"
          },
          "metadata": {}
        }
      ]
    }
  ]
}